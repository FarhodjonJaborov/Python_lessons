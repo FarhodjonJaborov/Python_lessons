{
 "cells": [
  {
   "cell_type": "markdown",
   "id": "05c6526a-0f46-4246-9769-0f69bf4e2301",
   "metadata": {
    "jp-MarkdownHeadingCollapsed": true
   },
   "source": [
    "# Вазифаи хонагии №1"
   ]
  },
  {
   "cell_type": "markdown",
   "id": "b9815a37-517f-45fa-9175-50145f2edb05",
   "metadata": {},
   "source": [
    "Begin1. Тарафи квадрат дода шудааст. Периметри он p = a * 4 ёфта шавад"
   ]
  },
  {
   "cell_type": "code",
   "execution_count": 3,
   "id": "4effa8bd-9a5c-49e5-8c39-ec028a33ea68",
   "metadata": {},
   "outputs": [
    {
     "name": "stdout",
     "output_type": "stream",
     "text": [
      "A =  2\n",
      "P =  8\n"
     ]
    }
   ],
   "source": [
    "import random as r\n",
    "a = r.randrange(10)\n",
    "print(\"A = \", a)\n",
    "p = a * 4\n",
    "print(\"P = \", p)"
   ]
  },
  {
   "cell_type": "markdown",
   "id": "2ab5fd55-606e-4263-8289-8e9e918e9372",
   "metadata": {},
   "source": [
    "Begin3. Тарафҳои росткунҷа a ва b дода шудаанд. Масоҳати он s = a * b ва периметри он p = 2*(a + b) ёфта шаванд"
   ]
  },
  {
   "cell_type": "code",
   "execution_count": 4,
   "id": "8b12e91d-22cb-4aa7-bc2d-80902b8fbff3",
   "metadata": {},
   "outputs": [
    {
     "name": "stdout",
     "output_type": "stream",
     "text": [
      "A =  1\n",
      "B =  7\n",
      "S =  7 P =  16\n"
     ]
    }
   ],
   "source": [
    "a = r.randrange(10)\n",
    "b = r.randrange(10)\n",
    "print(\"A = \", a)\n",
    "print(\"B = \", b)\n",
    "s = a * b\n",
    "p = 2 * (a + b)\n",
    "print(\"S = \", s, \"P = \", p)"
   ]
  },
  {
   "cell_type": "markdown",
   "id": "57b408b0-6876-4182-8080-b87f633c2407",
   "metadata": {},
   "source": [
    "Begin20(Abramyan). Масофаи байни ду нуқтаҳои ҳамворӣ, ки бо координатаҳояшон (𝑥1, 𝑦1) ва (𝑥2, 𝑦2) дода шудаанд, ёфта шавад. Масофаи аз рӯи формулаи зерин ҳисоб карда мешавад: sqrt((𝑥2 − 𝑥1)^2 + (𝑦2 − 𝑦1)^2)."
   ]
  },
  {
   "cell_type": "code",
   "execution_count": 8,
   "id": "ce053e8a-6475-4ca5-896c-261d4f38d7e7",
   "metadata": {},
   "outputs": [
    {
     "name": "stdout",
     "output_type": "stream",
     "text": [
      "x1 =  9\n",
      "x2 =  4\n",
      "y1 =  1\n",
      "y2 =  9\n",
      "Масофа: 9.433981132056603\n"
     ]
    }
   ],
   "source": [
    "x1 = r.randrange(10)\n",
    "x2 = r.randrange(10)\n",
    "y1 = r.randrange(10)\n",
    "y2 = r.randrange(10)\n",
    "print(\"x1 = \", x1)\n",
    "print(\"x2 = \", x2)\n",
    "print(\"y1 = \", y1)\n",
    "print(\"y2 = \", y2)\n",
    "s = ((x2 - x1)**2 + (y2 - y1)**2) ** (1/2)\n",
    "print(\"Масофа:\", s)"
   ]
  },
  {
   "cell_type": "markdown",
   "id": "34ef0efe-de21-4d1a-bf9f-e252df0ab452",
   "metadata": {},
   "source": [
    "Begin23(Abramyan). Тағйирёбандаҳои a, b ва c дода шудаанд. Қиматҳои онҳоро чунин иваз намоед, ки қимати a ба b, b – ба c, c – ба a ҷойгир карда шаванд. Қиматҳои нави a, b ва c-ро чоп кунед."
   ]
  },
  {
   "cell_type": "code",
   "execution_count": 13,
   "id": "a6d42b78-7b8f-4d15-bc76-2e89c41e1776",
   "metadata": {},
   "outputs": [
    {
     "name": "stdout",
     "output_type": "stream",
     "text": [
      "A = 7, B = 13, C = 4\n",
      "A = 4, B = 7, C = 13\n"
     ]
    }
   ],
   "source": [
    "a = r.randrange(20)\n",
    "b = r.randrange(20)\n",
    "c = r.randrange(20)\n",
    "print(\"A = {0}, B = {1}, C = {2}\".format(a,b,c))\n",
    "a,b = b,a\n",
    "a,c = c,a\n",
    "print(\"A = {0}, B = {1}, C = {2}\".format(a,b,c))"
   ]
  },
  {
   "cell_type": "markdown",
   "id": "7f4cf04a-8b9d-41de-ad08-509c86a5122c",
   "metadata": {
    "jp-MarkdownHeadingCollapsed": true
   },
   "source": [
    "# Вазифаи хонагии №2"
   ]
  },
  {
   "cell_type": "markdown",
   "id": "f497e1f8-d8a4-4f15-b0d7-fcfa38b764e4",
   "metadata": {},
   "source": [
    "Integer5. Ададҳои бутуни мусбати a ва b дода шудаанд (a > b). Дар порчаи дарозиаш a миқдори максималии имконпазири порчаҳои дарозиашон b ҷойгир карда шудаанд (болои ҳам нахобанда). Амали гирифтани бақияи бутун аз ҳосили тақсимро истифода бурда, дарозии қисми ишғолнашудаи порчаи a-ро ёбед"
   ]
  },
  {
   "cell_type": "code",
   "execution_count": 3,
   "id": "9201a8cb-0b37-4f3a-bb9d-3bfcaeba2db0",
   "metadata": {},
   "outputs": [
    {
     "name": "stdout",
     "output_type": "stream",
     "text": [
      "A =  18\n",
      "B =  8\n",
      "Дарозии қисми ишғолнашуда: 2\n"
     ]
    }
   ],
   "source": [
    "import random as r\n",
    "a = r.randrange(10,20)\n",
    "b = r.randrange(10)\n",
    "print(\"A = \", a)\n",
    "print(\"B = \", b)\n",
    "print(\"Дарозии қисми ишғолнашуда:\", a % b)"
   ]
  },
  {
   "cell_type": "markdown",
   "id": "c0435113-721c-42b7-b217-9e7ac484fcff",
   "metadata": {},
   "source": [
    "Integer6. Адади дурақама дода шудааст. Аввал рақами чапи  онро (даҳиҳо) ва сипас рақами рости онро (воҳидҳо) чоп кунед. Барои ёфтани даҳиҳо амали тақсим, барои ёфтани воҳидҳо — амали гирифтани бақия аз ҳосили тақсим истифода бурда шавад."
   ]
  },
  {
   "cell_type": "code",
   "execution_count": 27,
   "id": "19a5a5f5-fb23-48fc-9f76-69bbfb985e37",
   "metadata": {},
   "outputs": [
    {
     "name": "stdout",
     "output_type": "stream",
     "text": [
      "N =  93\n",
      "Ёфтани даҳиҳо: 9\n",
      "Ёфтани воҳидҳо: 3\n"
     ]
    }
   ],
   "source": [
    "N = r.randrange(10,100)\n",
    "print(\"N = \", N)\n",
    "print(\"Ёфтани даҳиҳо:\", N // 10)\n",
    "print(\"Ёфтани воҳидҳо:\", N % 10)"
   ]
  },
  {
   "cell_type": "markdown",
   "id": "4ea10380-86d3-4cb1-9177-87d59ddd9794",
   "metadata": {},
   "source": [
    "Integer18(Abramyan). Адади бутуни аз 999 калон дода шудааст. Амалҳои тақсим ва бақияи бутун аз тақсимро як маротиба истифода бурда, рақаме, ки ба разряди ҳазориҳои адади дода шуда мувофиқ аст, ёфта шавад."
   ]
  },
  {
   "cell_type": "code",
   "execution_count": 31,
   "id": "b9e291d4-0398-4a0f-b875-2b8d77c7f77e",
   "metadata": {},
   "outputs": [
    {
     "name": "stdout",
     "output_type": "stream",
     "text": [
      "N =  5338\n",
      "Разряди ҳазори: 5\n"
     ]
    }
   ],
   "source": [
    "N = r.randrange(1000, 10000)\n",
    "print(\"N = \", N)\n",
    "print(\"Разряди ҳазори:\", N // 1000)"
   ]
  },
  {
   "cell_type": "markdown",
   "id": "af14febc-a64a-4096-9dc8-2efaab31e0fb",
   "metadata": {},
   "source": [
    "Integer21(Abramyan). Аз оғози рӯз 𝑛 сония гузашт (𝑛 – бутун). Миқдори сонияҳои пас аз дақиқаи охирон гузаштаро ҳисоб кунед"
   ]
  },
  {
   "cell_type": "code",
   "execution_count": 5,
   "id": "54ab4d84-7e46-4f14-b981-2e6245246b47",
   "metadata": {},
   "outputs": [
    {
     "name": "stdout",
     "output_type": "stream",
     "text": [
      "N =  77962\n",
      "Сонияи гузашта: 22\n"
     ]
    }
   ],
   "source": [
    "N = r.randrange(0,86400)\n",
    "print(\"N = \", N)\n",
    "print(\"Сонияи гузашта:\", N % 60)"
   ]
  },
  {
   "cell_type": "markdown",
   "id": "5340f6b9-8e77-43a1-a375-47357c2a36ad",
   "metadata": {
    "jp-MarkdownHeadingCollapsed": true
   },
   "source": [
    "# Вазифаи хонагии №3"
   ]
  },
  {
   "cell_type": "markdown",
   "id": "0854fef1-4b53-49d6-a0e1-60da91e25f1f",
   "metadata": {},
   "source": [
    "If4(Abramyan). Се ададҳои бутун дода шудаанд. Миқдори ададҳои мусбат дар байни онҳо ёфта шавад."
   ]
  },
  {
   "cell_type": "code",
   "execution_count": 16,
   "id": "c7724380-e220-4c31-b092-bacf9d36b497",
   "metadata": {},
   "outputs": [
    {
     "name": "stdout",
     "output_type": "stream",
     "text": [
      "A =  -6\n",
      "B =  2\n",
      "C =  9\n",
      "Миқдори ададҳои мусбат: 2\n"
     ]
    }
   ],
   "source": [
    "import random as r\n",
    "a = r.randrange(-10,10)\n",
    "b = r.randrange(-10,10)\n",
    "c = r.randrange(-10, 10)\n",
    "print(\"A = \", a)\n",
    "print(\"B = \", b)\n",
    "print(\"C = \", c)\n",
    "x = 0\n",
    "if a > 0:\n",
    "    x +=1\n",
    "if b > 0:\n",
    "    x +=1\n",
    "if c > 0:\n",
    "    x +=1\n",
    "print(\"Миқдори ададҳои мусбат:\", x)"
   ]
  },
  {
   "cell_type": "markdown",
   "id": "b4e7e272-117e-4d1c-8cac-dbf420bd9de1",
   "metadata": {},
   "source": [
    "If5(Abramyan). Се ададҳои бутун дода шудаанд. Миқдори ададҳои мусбат ва манфӣ дар байни онҳо ёфта шавад."
   ]
  },
  {
   "cell_type": "code",
   "execution_count": 21,
   "id": "f745bace-b33d-4885-a035-4d42dd6c3852",
   "metadata": {},
   "outputs": [
    {
     "name": "stdout",
     "output_type": "stream",
     "text": [
      "A =  3\n",
      "B =  8\n",
      "C =  5\n",
      "Миқдори ададҳои мусбат: 3\n",
      "Миқдори ададҳои манфӣ: 0\n"
     ]
    }
   ],
   "source": [
    "import random as r\n",
    "a = r.randrange(-10,10)\n",
    "b = r.randrange(-10,10)\n",
    "c = r.randrange(-10, 10)\n",
    "print(\"A = \", a)\n",
    "print(\"B = \", b)\n",
    "print(\"C = \", c)\n",
    "x = 0\n",
    "y = 0\n",
    "if a > 0:\n",
    "    x +=1\n",
    "if a < 0:\n",
    "    y += 1\n",
    "if b > 0:\n",
    "    x +=1\n",
    "if b < 0:\n",
    "    y += 1\n",
    "if c > 0:\n",
    "    x +=1\n",
    "if c < 0:\n",
    "    y += 1\n",
    "print(\"Миқдори ададҳои мусбат:\", x)\n",
    "print(\"Миқдори ададҳои манфӣ:\", y)"
   ]
  },
  {
   "cell_type": "markdown",
   "id": "e4e13636-ffe5-4955-a452-0ee0ba6d57fe",
   "metadata": {},
   "source": [
    "Boolean20. Адади серақама дода шудааст. Дурустии гуфтори: «Ҳамаи рақамҳои адади додашуда гуногун аст» санҷида шавад"
   ]
  },
  {
   "cell_type": "code",
   "execution_count": 18,
   "id": "63763c32-1aec-46f1-b538-52bb0d88842d",
   "metadata": {},
   "outputs": [
    {
     "name": "stdout",
     "output_type": "stream",
     "text": [
      "N = 703\n",
      "Садӣ: 7\n",
      "Даҳӣ: 0\n",
      "Воҳид: 3\n",
      "Ҳамаи рақамҳои адади додашуда гуногун аст: True\n"
     ]
    }
   ],
   "source": [
    "import random as r\n",
    "N = r.randrange(100, 1000)\n",
    "print(\"N =\", N)\n",
    "d2 = int(N / 100)\n",
    "d1 = int((N -d2 * 100)/10)\n",
    "d0 = N % 10\n",
    "print(\"Садӣ:\", d2)\n",
    "print(\"Даҳӣ:\", d1)\n",
    "print(\"Воҳид:\", d0)\n",
    "ab = (d2 != d1)\n",
    "bc = (d1 != d0)\n",
    "ac = (d2 != d0)\n",
    "x = ab and bc and ac\n",
    "print(\"Ҳамаи рақамҳои адади додашуда гуногун аст:\", x)"
   ]
  },
  {
   "cell_type": "markdown",
   "id": "b3c16132-eb7b-4cdc-a61b-1055daf1be1b",
   "metadata": {},
   "source": [
    "Boolean22. Адади серақама дода шудааст. Дурустии гуфтори:«Рақамҳои адади додашуда пайдарпаии афзуншаванда ё камшавандаро ташкил медиҳанд» санҷида шавад"
   ]
  },
  {
   "cell_type": "code",
   "execution_count": 67,
   "id": "df0dafe3-f5e3-4cc0-ac48-b83506bb8335",
   "metadata": {},
   "outputs": [
    {
     "name": "stdout",
     "output_type": "stream",
     "text": [
      "N = 963\n",
      "Садӣ: 9\n",
      "Даҳӣ: 6\n",
      "Воҳид: 3\n",
      "Рақамҳои адади додашуда афзуншаванда ё камшаванда аст: True\n"
     ]
    }
   ],
   "source": [
    "N = r.randrange(100,1000)\n",
    "print(\"N =\", N)\n",
    "d2 = int(N / 100)\n",
    "d1 = int((N - d2 * 100)/10)\n",
    "d0 = N % 10\n",
    "print(\"Садӣ:\", d2)\n",
    "print(\"Даҳӣ:\", d1)\n",
    "print(\"Воҳид:\", d0)\n",
    "x = ((d2 < d1) and (d1 < d0)) or ((d2 > d1) and (d1 > d0))\n",
    "print(\"Рақамҳои адади додашуда афзуншаванда ё камшаванда аст:\", x)"
   ]
  },
  {
   "cell_type": "markdown",
   "id": "599ca8ba-2160-4260-b840-9ae3663b31ba",
   "metadata": {
    "jp-MarkdownHeadingCollapsed": true
   },
   "source": [
    "# Вазифаи хонагии №4"
   ]
  },
  {
   "cell_type": "markdown",
   "id": "5b1ff9c4-5a53-4e1b-8b76-50266cf84d48",
   "metadata": {},
   "source": [
    "For2. Ду ададҳои бутуни a ва b (a < b) дода шудаанд. Бо тартиби афзуншавӣ ҳамаи ададҳои бутуни дар байни a ва b (аз он ҷумла a ва b) мавҷуд буда ва миқдори ин ададҳо 𝑛-ро аз чоп бароред."
   ]
  },
  {
   "cell_type": "code",
   "execution_count": 52,
   "id": "ebe0fdd7-92c5-49e9-9779-c98498a3b713",
   "metadata": {},
   "outputs": [
    {
     "name": "stdout",
     "output_type": "stream",
     "text": [
      "A =  6\n",
      "B =  9\n",
      "6 : 1 7 : 2 8 : 3 N = 3\n"
     ]
    }
   ],
   "source": [
    "import random as r\n",
    "a = r.randrange(10)\n",
    "n = r.randrange(10)\n",
    "b = a + n\n",
    "print(\"A = \", a)\n",
    "print('B = ', b)\n",
    "N = 0\n",
    "for i in range(a, b):\n",
    "    N += 1\n",
    "    print(i , \":\", N, end = ' ')\n",
    "print(\"N =\", N)"
   ]
  },
  {
   "cell_type": "markdown",
   "id": "019d983f-578e-41bf-895c-34e8c2d24f97",
   "metadata": {},
   "source": [
    "While4. Адади бутуни 𝑛 (> 0) дода шудааст. Агар он дараҷаи адади 3 бошад, онгоҳ true, вагарна false чоп карда шавад."
   ]
  },
  {
   "cell_type": "code",
   "execution_count": 73,
   "id": "d4e132a3-aaef-47f8-a361-3e43cd30fb5f",
   "metadata": {},
   "outputs": [
    {
     "name": "stdin",
     "output_type": "stream",
     "text": [
      "N =  25\n"
     ]
    },
    {
     "name": "stdout",
     "output_type": "stream",
     "text": [
      "Дараҷаи 3 аст: True\n"
     ]
    }
   ],
   "source": [
    "n = int(input(\"N = \"))\n",
    "if N > 0:\n",
    "    while N >= 3:\n",
    "        N /= 3\n",
    "    print(\"Дараҷаи 3 аст:\", (N == 1))"
   ]
  },
  {
   "cell_type": "markdown",
   "id": "af84b1ee-ec59-482b-af29-ec6707c384e6",
   "metadata": {},
   "source": [
    "For20. Адади бутуни 𝑛 (> 0) дода шудааст. Танҳо як сиклро истифода бурда, суммаи 1! + 2! + 3! + ⋯ + 𝑛! ҳисоб карда шавад (ифодаи 𝑛! – 𝑛-факториал – ҳосили зарби ҳамаи ададҳои бутуни аз 1 то 𝑛-ро ифода мекунад). Барои аз ҳадди муайяншудаи ададҳои бутун набаромадан, ҳисобкуниро бо ададҳои ҳақиқӣ иҷро намуда, натиҷа низ ба намуди адади ҳақиқӣ аз чоп бароварда шавад."
   ]
  },
  {
   "cell_type": "code",
   "execution_count": 87,
   "id": "530bc557-91a0-4c87-aef4-aafec680fd9e",
   "metadata": {},
   "outputs": [
    {
     "name": "stdout",
     "output_type": "stream",
     "text": [
      "5 баробари 120 факториал.\n"
     ]
    }
   ],
   "source": [
    "def factorial(n):\n",
    "    result = 1\n",
    "    for i in range(1, n + 1):\n",
    "        result  *= i\n",
    "    return result\n",
    "\n",
    "number = 5\n",
    "factorial_number = factorial(number)\n",
    "print(f\"{number} баробари {factorial_number} факториал.\")"
   ]
  },
  {
   "cell_type": "markdown",
   "id": "9b33fe71-669b-4101-a290-4398ef113b67",
   "metadata": {},
   "source": [
    "While20(Abramyan). Адади бутуни 𝑛 (> 0) дода шудааст. Бо ёрии амалҳои тақсим ва бақияи бутун аз тақсим муайян карда шавад, ки оё дар навишти адад рақами «2» мавҷуд аст? Агар мавҷуд бошад, пас TRUE, вагарна FALSE чоп карда шавад."
   ]
  },
  {
   "cell_type": "code",
   "execution_count": 132,
   "id": "3d2f156f-db9e-41b1-9992-01a4f65af7bd",
   "metadata": {},
   "outputs": [
    {
     "name": "stdout",
     "output_type": "stream",
     "text": [
      "N =  25978\n",
      "1 - 8\n",
      "2 - 7\n",
      "3 - 9\n",
      "4 - 5\n",
      "5 - 2\n",
      "True\n"
     ]
    }
   ],
   "source": [
    "import random as r\n",
    "N = r.randrange(10, 100000)\n",
    "print(\"N = \", N)\n",
    "q = N\n",
    "i = 0\n",
    "flag = False\n",
    "while q >= 1:\n",
    "    i += 1\n",
    "    r = q % 10\n",
    "    print(i, \"-\", r)\n",
    "    if r == 2:\n",
    "        flag = True\n",
    "        break\n",
    "    q = int(q/10)\n",
    "\n",
    "print(flag)"
   ]
  },
  {
   "cell_type": "markdown",
   "id": "f87f9e4d-fb6c-4580-bd74-42769fcf54c8",
   "metadata": {
    "jp-MarkdownHeadingCollapsed": true
   },
   "source": [
    "# Вазифаи хонагии №5"
   ]
  },
  {
   "cell_type": "markdown",
   "id": "94ac17b3-b162-4f87-9f81-054172c6f5f1",
   "metadata": {},
   "source": [
    "Array2(Abramyan). Адади бутуни n (> 0) дода шудааст. Массиви ададҳои бутуни андозааш n, ки аз дараҷаҳои ду аз якум то n-ум: 2,4,8,… иборат аст, ташкил карда шуда, аз чоп бароварда шавад"
   ]
  },
  {
   "cell_type": "code",
   "execution_count": 151,
   "id": "fcb7b15b-4e3d-4dd2-acfe-6333e04ce1ec",
   "metadata": {},
   "outputs": [
    {
     "name": "stdout",
     "output_type": "stream",
     "text": [
      "N =  8\n",
      "[2, 4, 8, 16, 32, 64, 128, 256]\n"
     ]
    }
   ],
   "source": [
    "import random as p\n",
    "N = r.randrange(10)\n",
    "print(\"N = \", N)\n",
    "a1 = []\n",
    "p = 1\n",
    "for i in range(N):\n",
    "    p *= 2\n",
    "    a1.append(p)\n",
    "\n",
    "print(a1)"
   ]
  },
  {
   "cell_type": "markdown",
   "id": "4deeb234-eea8-4eab-80c3-7f529a7f6a0b",
   "metadata": {},
   "source": [
    "Array4(Abramyan). Адади бутуни 𝑛 (> 1), инчунин аъзои якум a ва махраҷ d-и прогрессияи геометрӣ дода шудаанд. Массиви андозааш n, ки аз n аъзои аввали ин прогрессия: a, a*d, a*d^2, a*d^3, … иборат аст, ташкил карда шуда, аз чоп бароварда шавад. Дар ин ҷо d^k - ин d дар дараҷаи k аст. Масалан, 5^3 = 5*5*5 = 125"
   ]
  },
  {
   "cell_type": "code",
   "execution_count": 155,
   "id": "e92494a2-c197-4c4d-bbaa-43c73ef1d927",
   "metadata": {},
   "outputs": [
    {
     "name": "stdout",
     "output_type": "stream",
     "text": [
      "N =  5\n",
      "A = 2\n",
      "D = -2\n",
      "[2, -4, 8, -16, 32]\n"
     ]
    }
   ],
   "source": [
    "import random as r\n",
    "N = r.randrange(1,10)\n",
    "a = r.randrange(-10, 10)\n",
    "d = round(r.randrange(-5,5),1)\n",
    "print(\"N = \", N)\n",
    "print('A =', a)\n",
    "print('D =', d)\n",
    "\n",
    "a1 = []\n",
    "for i in range(N):\n",
    "    x = a * (d ** i)\n",
    "    a1.append(x)\n",
    "\n",
    "print(a1)"
   ]
  },
  {
   "cell_type": "markdown",
   "id": "bb0aa4e7-2bac-47db-84fe-a878ed70b1d4",
   "metadata": {
    "jp-MarkdownHeadingCollapsed": true
   },
   "source": [
    "# Вазифаи хонагии №6"
   ]
  },
  {
   "cell_type": "markdown",
   "id": "eb2258c1-d3d3-4f2c-96f6-8dfa1ed5abe5",
   "metadata": {},
   "source": [
    "Array5(Abramyan). Адади бутуни n (> 2) дода шудааст. Массиви ададҳои бутуни андозааш n, ки аз n аъзои аввали пайдарпаии ададҳои Фибоначчи fk: f1 = 1, f2 = 1, fk = fk−2 + fk−1, k = 3,4,… иборат аст, ташкил карда шуда, аз чоп бароварда шавад"
   ]
  },
  {
   "cell_type": "code",
   "execution_count": 4,
   "id": "74711185-92b5-45bc-bf4c-d487c9bf5a99",
   "metadata": {},
   "outputs": [
    {
     "name": "stdout",
     "output_type": "stream",
     "text": [
      "N =  12\n",
      "[1, 1, 2, 3, 5, 8, 13, 21, 34, 55, 89, 144]\n"
     ]
    }
   ],
   "source": [
    "import random as r\n",
    "N = r.randrange(2, 20)\n",
    "print(\"N = \", N)\n",
    "a = [1, 1]\n",
    "for i in range(2, N):\n",
    "    x = a[i - 2] + a[i - 1]\n",
    "    a.append(x)\n",
    "\n",
    "print(a)"
   ]
  },
  {
   "cell_type": "markdown",
   "id": "7a654214-87f4-4cd4-8d82-7fdb64486fbd",
   "metadata": {},
   "source": [
    "Array7(Abramyan). Массиви андозааш n дода шудааст. Элементҳои он аз баръаксаш аз чоп бароварда шавад"
   ]
  },
  {
   "cell_type": "code",
   "execution_count": 19,
   "id": "4a2163e9-4a75-416b-a898-5cd3fc92d804",
   "metadata": {},
   "outputs": [
    {
     "name": "stdout",
     "output_type": "stream",
     "text": [
      "N =  11\n",
      "[1, 2, 3, 4, 5, 6, 7, 8, 9, 10, 11]\n",
      "[11, 10, 9, 8, 7, 6, 5, 4, 3, 2, 1]\n"
     ]
    }
   ],
   "source": [
    "import random as r\n",
    "N = r.randrange(1, 20)\n",
    "print(\"N = \", N)\n",
    "a1 = []\n",
    "s = 0\n",
    "for i in range(N):\n",
    "    s += 1\n",
    "    a1.append(s)\n",
    "\n",
    "print(a1)\n",
    "print(sorted(a1, reverse = True))"
   ]
  },
  {
   "cell_type": "markdown",
   "id": "6ea9dc9a-d820-4a96-9aa8-61bfffa2b6a5",
   "metadata": {
    "jp-MarkdownHeadingCollapsed": true
   },
   "source": [
    "# Вазифаи хонагии №7"
   ]
  },
  {
   "cell_type": "markdown",
   "id": "69f29748-54e4-45e3-81b9-49361d532661",
   "metadata": {},
   "source": [
    "Case4(Abramyan). Рақами тартибии моҳ – адади бутуни аз 1-12 (1 – январ, 2 – феврал ва ғайра) дода шудааст. Миқдори рӯзҳо дар ин моҳ барои соли кабиса набуда (невисокосный) муайян карда шавад"
   ]
  },
  {
   "cell_type": "code",
   "execution_count": 20,
   "id": "0b5d525e-8515-4227-b298-22e644954ab9",
   "metadata": {},
   "outputs": [
    {
     "name": "stdout",
     "output_type": "stream",
     "text": [
      "Дар ин моҳи Сентябр, 30 рӯз ҳаст.\n",
      "\n"
     ]
    }
   ],
   "source": [
    "import random as r\n",
    "i = r.randrange(1, 13)\n",
    "m = {\n",
    "    '1':'31',\n",
    "    '2':'28',\n",
    "    '3':'31',\n",
    "    '4':'30',\n",
    "    '5':'31',\n",
    "    '6':'30',\n",
    "    '7':'31',\n",
    "    '8':'31',\n",
    "    '9':'30',\n",
    "    '10':'31',\n",
    "    '11':'30',\n",
    "    '12':'31'\n",
    "}\n",
    "\n",
    "nomi_mohho = {\n",
    "    '1': 'Январ',\n",
    "    '2': \"Феврал\",\n",
    "    '3':'Март',\n",
    "    '4':'Апрел',\n",
    "    '5':'Май',\n",
    "    '6':'Июн',\n",
    "    '7':'Июл',\n",
    "    '8':'Август',\n",
    "    '9':'Сентябр',\n",
    "    '10':'Октябр',\n",
    "    '11':'Ноябр',\n",
    "    '12':'Декабр'\n",
    "}\n",
    "\n",
    "print(f\"Дар ин моҳи {nomi_mohho[str(i)]}, {m[str(i)]} рӯз ҳаст.\")\n",
    "print()"
   ]
  },
  {
   "cell_type": "markdown",
   "id": "ed87a7ef-66d7-4e1d-bcc8-cac2bdcfe492",
   "metadata": {},
   "source": [
    "Case5(Abramyan). Амалҳои арифметикӣ бо ададҳо чунин рақамгузорӣ карда шудаанд: 1 – ҷамъ, 2 – фарқ, 3 – зарб, 4 – тақсим. Рақами тартибии амал 𝑛 дода шудааст (адади бутун аз 1-4) ва ададҳои ҳақиқии a ва b (b ба 0 баробар нест) дода шудаанд. Бо ин ададҳо амали нишондодашударо иҷро намуда, қимати ҳосилшударо аз чоп бароред."
   ]
  },
  {
   "cell_type": "code",
   "execution_count": 21,
   "id": "3dacc438-fcc8-4c28-b7e9-92b3b526de7b",
   "metadata": {},
   "outputs": [
    {
     "name": "stdout",
     "output_type": "stream",
     "text": [
      "1 – ҷамъ, 2 – фарқ, 3 – зарб, 4 – тақсим.\n",
      "Амали фарқ\n",
      "A = -452\n",
      "B = -581\n",
      "-452 - -581 = 129\n",
      "\n"
     ]
    }
   ],
   "source": [
    "print(\"1 – ҷамъ, 2 – фарқ, 3 – зарб, 4 – тақсим.\")\n",
    "amalho = {1:\"ҷамъ\", 2:\"фарқ\", 3:\"зарб\", 4:'тақсим'}\n",
    "n = r.randrange(1,5)\n",
    "a = r.randrange(-1000, 1000)\n",
    "b = r.randrange(-1000, 1000)\n",
    "print(f\"Амали {amalho[n]}\")\n",
    "print(\"A =\", a)\n",
    "print(\"B =\", b)\n",
    "if n == 1:\n",
    "    print(a ,'+' ,b ,\"=\", a + b)\n",
    "elif n == 2:\n",
    "    print(a ,'-', b, \"=\", a - b)\n",
    "elif n == 3:\n",
    "    print(a, '*', b, \"=\", a * b)\n",
    "elif n == 4:\n",
    "    if b == 0:\n",
    "        print(\"Ададҳоро ба 0 тақсим карда намешавад.\")\n",
    "    else:\n",
    "        print(a, '/', b,\"=\", a/b)\n",
    "\n",
    "print()"
   ]
  },
  {
   "cell_type": "markdown",
   "id": "defde3d5-dc86-4600-bfca-292b50c2652c",
   "metadata": {},
   "source": [
    "Case17(Abramyan). Адади бутун аз 10 то 90 дода шудааст, ки миқдори масъалаҳои таълимии ягон мавзӯъро муайян мекунад. Сатри тавсифии миқдори масъаларо доири фан аз чоп бароред (масалан, «дувоздах масъала», «сиву чор масъала» ва ғайра)."
   ]
  },
  {
   "cell_type": "code",
   "execution_count": 30,
   "id": "1abb8964-bb43-4db7-a668-fc86d837e6c3",
   "metadata": {},
   "outputs": [
    {
     "name": "stdout",
     "output_type": "stream",
     "text": [
      "N =  89\n",
      "r = 9\n",
      "q = 80\n",
      "ҳаштоду нуҳ масъала\n",
      "\n"
     ]
    }
   ],
   "source": [
    "import random as r\n",
    "\n",
    "dcat = {\n",
    "    11 : 'Ёздаҳ',\n",
    "    12 : 'Дувоздаҳ',\n",
    "    13 : 'Сенздаҳ',\n",
    "    14 : 'Чордаҳ',\n",
    "    15 : 'Понздаҳ',\n",
    "    16 : 'Шонздаҳ',\n",
    "    17 : 'Ҳабдаҳ',\n",
    "    18 : 'Ҳаждаҳ',\n",
    "    19 : 'Нуздаҳ'\n",
    "}\n",
    "dahiho = {\n",
    "    10 : 'даҳ',\n",
    "    20 : 'бист',\n",
    "    30 : 'си',\n",
    "    40 : 'чил',\n",
    "    50 : 'панҷоҳ',\n",
    "    60 : 'шаст',\n",
    "    70 : 'ҳафтод',\n",
    "    80 : 'ҳаштод',\n",
    "    90 : 'навад'    \n",
    "}\n",
    "vohidho = {\n",
    "    1: 'у як',\n",
    "    2: 'у ду',\n",
    "    3: 'у се',\n",
    "    4: 'у чор',\n",
    "    5: 'у панҷ',\n",
    "    6: 'у шаш',\n",
    "    7: 'у ҳафт',\n",
    "    8: 'у ҳашт',\n",
    "    9: 'у нуҳ'\n",
    "}\n",
    "\n",
    "N  = r.randrange(10 , 91)\n",
    "print(\"N = \", N)\n",
    "if 10 < N and N < 20:\n",
    "    print(\"{0} масъала\".format(dcat[N]))\n",
    "else:\n",
    "    r = N % 10\n",
    "    print(\"r =\", r)\n",
    "    if r == 0:\n",
    "        print(\"{0] масъала\".format(dahiho[N]))\n",
    "    else:\n",
    "        q = int(N / 10) * 10\n",
    "        print(\"q =\", q)\n",
    "        print(\"{0}{1} масъала\".format(dahiho[q], vohidho[r]))\n",
    "\n",
    "print()"
   ]
  },
  {
   "cell_type": "markdown",
   "id": "0df194f0-45de-4b51-a076-a342978558ad",
   "metadata": {},
   "source": [
    "Case18(Abramyan). Адади бутуни серақама дода шудааст. Сатри тавсифи номи ин ададро аз чоп бароред, масалан: 256 – ду саду панҷоҳу шаш, 814 – ҳашт саду чордаҳ."
   ]
  },
  {
   "cell_type": "code",
   "execution_count": 33,
   "id": "962a6600-e67a-47d4-bc59-0db34e959d59",
   "metadata": {},
   "outputs": [
    {
     "name": "stdout",
     "output_type": "stream",
     "text": [
      "N =  824\n",
      "Садӣ: 8\n",
      "Даҳӣ: 2\n",
      "Воҳид: 4\n",
      "ҳаштсаду бисту чор\n"
     ]
    }
   ],
   "source": [
    "import random as r\n",
    "N = r.randrange(100,1000)\n",
    "print(\"N = \", N)\n",
    "d2 = int(N // 100)\n",
    "d1 = int((N - d2 * 100)/10)\n",
    "d0 = N % 10\n",
    "print(\"Садӣ:\", d2)\n",
    "print(\"Даҳӣ:\", d1)\n",
    "print(\"Воҳид:\",d0)\n",
    "sadi = {\n",
    "    100: 'сад',\n",
    "    200: 'дусад',\n",
    "    300: 'сесад',\n",
    "    400: 'чорсад',\n",
    "    500: 'панҷсад',\n",
    "    600: 'шашсад',\n",
    "    700: 'ҳафтсад',\n",
    "    800: 'ҳаштсад',\n",
    "    900: 'нуҳсад'\n",
    "}\n",
    "dahiho = {\n",
    "    10 : 'у даҳ',\n",
    "    20 : 'у бист',\n",
    "    30 : 'у сию',\n",
    "    40 : 'у чил',\n",
    "    50 : 'у панҷоҳ',\n",
    "    60 : 'у шаст',\n",
    "    70 : 'у ҳафтод',\n",
    "    80 : 'у ҳаштод',\n",
    "    90 : 'у навад'    \n",
    "}\n",
    "vohidho = {\n",
    "    1: 'у як',\n",
    "    2: 'у ду',\n",
    "    3: 'у се',\n",
    "    4: 'у чор',\n",
    "    5: 'у панҷ',\n",
    "    6: 'у шаш',\n",
    "    7: 'у ҳафт',\n",
    "    8: 'у ҳашт',\n",
    "    9: 'у нуҳ'\n",
    "}\n",
    "propis = ''\n",
    "q = int(N/100)*100\n",
    "propis += sadi[q]\n",
    "\n",
    "#print(propis)\n",
    "\n",
    "N -= q \n",
    "\n",
    "if 10 < N and N < 20:\n",
    "    propis += '' + sadi[N]\n",
    "else:\n",
    "    r = N%10\n",
    "        #print(\"r = \",r)\n",
    "    q = int(N/10)*10\n",
    "        #print(\"q = \",q)\n",
    "    if q !=0:\n",
    "        propis += '' + dahiho[q]\n",
    "    if r != 0:\n",
    "        propis += '' + vohidho[r]\n",
    "\n",
    "    print(propis)"
   ]
  },
  {
   "cell_type": "markdown",
   "id": "365203bc-4fe5-4674-9429-29fc2917d172",
   "metadata": {
    "jp-MarkdownHeadingCollapsed": true
   },
   "source": [
    "# Вазифаи хонагии №8"
   ]
  },
  {
   "cell_type": "markdown",
   "id": "0e26e4e2-2b38-4cac-b4a7-84348962d295",
   "metadata": {},
   "source": [
    "Array8(Abramyan). Массиви ададҳои бутуни андозааш 𝑛 дода шудааст. Ҳамаи ададҳои тоқи массив бо тартиби афзуншавии индексҳояшон ва миқдори онҳо 𝑘 аз чоп бароварда шаванд."
   ]
  },
  {
   "cell_type": "code",
   "execution_count": 14,
   "id": "eafc9620-cdd9-4e94-8469-c0e6e23ff97d",
   "metadata": {},
   "outputs": [
    {
     "name": "stdout",
     "output_type": "stream",
     "text": [
      "N =  7\n",
      "[15, 2, 17, 15, 11, 4, 19]\n",
      "0 : 15; 2 : 17; 3 : 15; 4 : 11; 6 : 19; \n",
      "Миқдор = 5\n",
      "\n"
     ]
    }
   ],
   "source": [
    "import random as r\n",
    "N = r.randrange(1, 10)\n",
    "A = [r.randrange(1, 21) for i in range(N)]\n",
    "print(\"N = \", N)\n",
    "print(A)\n",
    "K = 0\n",
    "for i in range(N):\n",
    "    if A[i]%2 == 1:\n",
    "        K += 1\n",
    "        print(i, \":\", A[i], end = '; ')\n",
    "\n",
    "print()\n",
    "print(\"Миқдор =\", K)\n",
    "print()"
   ]
  },
  {
   "cell_type": "markdown",
   "id": "c6dc3e2c-2be7-4c1f-9d30-4380fc6922bd",
   "metadata": {},
   "source": [
    "Array9(Abramyan). Массиви ададҳои бутуни андозааш 𝑛 дода шудааст. Ҳамаи ададҳои ҷуфти массив бо тартиби камшавии индексҳояшон ва миқдори онҳо 𝑘 аз чоп бароварда шаванд."
   ]
  },
  {
   "cell_type": "code",
   "execution_count": 23,
   "id": "82392350-e498-4ced-89c3-4a806842ff3f",
   "metadata": {},
   "outputs": [
    {
     "name": "stdout",
     "output_type": "stream",
     "text": [
      "N = 5\n",
      "[18, 17, 2, 12, 9]\n",
      "4 : 12; 3 : 2; 1 : 18; \n",
      "Миқдор = 3\n"
     ]
    }
   ],
   "source": [
    "import random as r\n",
    "N = r.randrange(1, 10)\n",
    "A = [r.randrange(1, 21) for i in range(N)]\n",
    "print(\"N =\", N)\n",
    "print(A)\n",
    "K = 0\n",
    "for i in range(N, 0, -1):\n",
    "    if A[i - 1]%2 == 0:\n",
    "        K += 1\n",
    "        print(i, \":\", A[i-1], end = \"; \")\n",
    "\n",
    "print()\n",
    "print(\"Миқдор =\", K)"
   ]
  },
  {
   "cell_type": "markdown",
   "id": "a678d749-9199-4cd3-a450-3f5b8810ae70",
   "metadata": {},
   "source": [
    "Array18(Abramyan). Массиви ададҳои ғайринулии бутуни андозааш 10 дода шудааст. Элементи якуми массив ak , ки нобаробарии ak  < a9 -ро қаноат мекунонад, аз 9\r\n",
    "чоп бароварда шавад. Агар чунин элемент мавҷуд набошад 0 аз чоп бароварда ша.вад"
   ]
  },
  {
   "cell_type": "code",
   "execution_count": 2,
   "id": "53d6acc9-2355-43ff-bbfc-2b0a04716e97",
   "metadata": {},
   "outputs": [
    {
     "name": "stdout",
     "output_type": "stream",
     "text": [
      "N = 19\n",
      "Initial: \n",
      "[6, 3, 1, 7, 7, 1, 3, 4, 1, 6, 7, 7, 6, 9, 4, 6, 2, 4, 9]\n",
      "0 6\n"
     ]
    }
   ],
   "source": [
    "import random as r\n",
    "N = r.randint(10,25)\n",
    "print(\"N =\", N)\n",
    "A = [r.randrange(1, 10) for i in range(N)]\n",
    "print(\"Initial: \")\n",
    "print(A)\n",
    "\n",
    "flag = True\n",
    "for i in range(0, N-1):\n",
    "    if A[i] < A[N-1]:\n",
    "        print(i, A[i])\n",
    "        flag = False\n",
    "        break\n",
    "if flag:\n",
    "    print(0)"
   ]
  },
  {
   "cell_type": "markdown",
   "id": "59d2a837-65ba-4a5a-a20d-5461e7aae798",
   "metadata": {
    "jp-MarkdownHeadingCollapsed": true
   },
   "source": [
    "# Вазифаи хонагии № 9"
   ]
  },
  {
   "cell_type": "markdown",
   "id": "0e12fe23-517b-4420-9dd1-1c5bf63c4a9b",
   "metadata": {},
   "source": [
    "Proc2. Функсияи PowerA234(A,B,C,D) муайян карда шавад, ки дараҷаҳои дуюм, сеюм ва чоруми адади A-ро ҳисоб намуда, онҳоро мувофиқан дар тағйирёбандаҳои B, C, D бозмегардонад. Ба функсия параметри A дохил карда мешавад. Функсия параметрҳои B, C, D-ро бозмегардонад. Бо ёрии ин функсия дараҷаҳои дуюм, сеюм ва чоруми ададҳои додашударо ёбед."
   ]
  },
  {
   "cell_type": "code",
   "execution_count": 4,
   "id": "b92b9277-5a68-491a-a3bb-9afa27fc79d1",
   "metadata": {},
   "outputs": [
    {
     "name": "stdout",
     "output_type": "stream",
     "text": [
      "A =  -4\n",
      "B =  [16, -64, 256]\n",
      "A =  -1.501898633247933\n",
      "B =  [2.255699504552009, -3.3878320029047018, 5.088180254836178]\n",
      "\n"
     ]
    }
   ],
   "source": [
    "import random\n",
    "\n",
    "def PowerA234(A,B):\n",
    "   B[0] = A * A\n",
    "   B[1] = B[0] * A\n",
    "   B[2] = B[1] * A\n",
    "   return\n",
    "\n",
    "A = random.randrange(-10,10)\n",
    "B = [None] * 3\n",
    "PowerA234(A,B)\n",
    "print('A = ', A)\n",
    "print('B = ', B)\n",
    "\n",
    "\n",
    "A = random.uniform(-10,10)\n",
    "PowerA234(A,B)\n",
    "print('A = ', A)\n",
    "print('B = ', B)\n",
    "print()"
   ]
  },
  {
   "cell_type": "markdown",
   "id": "f6843f4a-491e-4ed2-90e0-bb96ce621b4c",
   "metadata": {},
   "source": [
    "Proc4. Функсияи TrianglePS(a,p,s) муайян карда шавад, ки аз рӯи тарафи a-и секунҷаи баробартараф периметри он p = 3⋅a ва масоҳати он s = a ⋅(√3)/4 -ро ҳисоб \r\n",
    "2\r\n",
    "мекунад. Ба функсия параметри a дохил карда мешавад. Функсия параметрҳои p ва s-ро бозмегардонад. Бо ёрии ин функсия периметр ва масоҳати се секунҷаҳои баробартарафи тарафҳояшон додашуда ҳисоб карда шаванд."
   ]
  },
  {
   "cell_type": "code",
   "execution_count": 5,
   "id": "da9c9bec-c3b4-41ed-b524-04da3b1443b5",
   "metadata": {},
   "outputs": [
    {
     "name": "stdout",
     "output_type": "stream",
     "text": [
      "a =  3\n",
      "P =  9\n",
      "S =  3.897114317029974\n",
      "\n",
      "a =  6\n",
      "P =  18\n",
      "S =  15.588457268119896\n",
      "\n",
      "a =  9\n",
      "P =  27\n",
      "S =  35.07402885326976\n",
      "\n"
     ]
    }
   ],
   "source": [
    "import random\n",
    "import math\n",
    "\n",
    "def TrianglePS(a,Result):\n",
    "   Result['P'] = 3 * a\n",
    "   Result['S'] = math.sqrt(3)/4 * a * a\n",
    "   return\n",
    "\n",
    "R = {'P' : None, 'S' : None}\n",
    "for i in range(3):\n",
    "    a = random.randrange(1,10)\n",
    "    print('a = ', a)\n",
    "    TrianglePS(a,R)\n",
    "    print('P = ', R['P'])\n",
    "    print('S = ', R['S'])\n",
    "    print()"
   ]
  },
  {
   "cell_type": "code",
   "execution_count": null,
   "id": "0ccf87b1-e194-4ffb-a294-155defbc1842",
   "metadata": {},
   "outputs": [],
   "source": []
  }
 ],
 "metadata": {
  "kernelspec": {
   "display_name": "Python 3 (ipykernel)",
   "language": "python",
   "name": "python3"
  },
  "language_info": {
   "codemirror_mode": {
    "name": "ipython",
    "version": 3
   },
   "file_extension": ".py",
   "mimetype": "text/x-python",
   "name": "python",
   "nbconvert_exporter": "python",
   "pygments_lexer": "ipython3",
   "version": "3.11.3"
  }
 },
 "nbformat": 4,
 "nbformat_minor": 5
}
