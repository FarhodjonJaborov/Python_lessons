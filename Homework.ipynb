{
 "cells": [
  {
   "cell_type": "code",
   "execution_count": 1,
   "id": "d9d23ee7-6b2d-4163-a7cb-c02f7041f567",
   "metadata": {},
   "outputs": [
    {
     "name": "stdin",
     "output_type": "stream",
     "text": [
      "Рӯзро дохил кунед:  16\n",
      "Моҳро дохил кунед:  01\n",
      "Солро дохил кунед:  2006\n"
     ]
    },
    {
     "name": "stdout",
     "output_type": "stream",
     "text": [
      "Соли таваллуд: 16-01-2006\n",
      "Имрӯз: 22-07-2024\n",
      "Рӯзи дар ҳаёт будаат: 6762\n"
     ]
    }
   ],
   "source": [
    "import datetime as dt\n",
    "\n",
    "day = int(input(\"Рӯзро дохил кунед: \"))\n",
    "month = int(input(\"Моҳро дохил кунед: \"))\n",
    "year = int(input(\"Солро дохил кунед: \"))\n",
    "\n",
    "date = dt.datetime(year, month, day)\n",
    "\n",
    "print(\"Соли таваллуд:\",date.strftime(\"%d-%m-%Y\"))\n",
    "today = dt.datetime.today()\n",
    "print(\"Имрӯз:\",today.strftime(\"%d-%m-%Y\"))\n",
    "difference = abs((today - date).days)\n",
    "print(\"Рӯзи дар ҳаёт будаат:\",difference)"
   ]
  },
  {
   "cell_type": "code",
   "execution_count": null,
   "id": "2b596210-c494-4a37-a019-f20a9aa8a978",
   "metadata": {},
   "outputs": [],
   "source": []
  }
 ],
 "metadata": {
  "kernelspec": {
   "display_name": "Python 3 (ipykernel)",
   "language": "python",
   "name": "python3"
  },
  "language_info": {
   "codemirror_mode": {
    "name": "ipython",
    "version": 3
   },
   "file_extension": ".py",
   "mimetype": "text/x-python",
   "name": "python",
   "nbconvert_exporter": "python",
   "pygments_lexer": "ipython3",
   "version": "3.12.4"
  }
 },
 "nbformat": 4,
 "nbformat_minor": 5
}
