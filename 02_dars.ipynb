{
 "cells": [
  {
   "cell_type": "code",
   "execution_count": 1,
   "id": "d3eb5190-4c21-4986-8e4a-6f9e83bfea41",
   "metadata": {},
   "outputs": [
    {
     "name": "stdout",
     "output_type": "stream",
     "text": [
      "x =  5\n",
      "y =  7\n",
      "x + y =  12\n",
      "y -x =  2\n",
      "x ^ y = 78125\n"
     ]
    }
   ],
   "source": [
    "x = 5\n",
    "y = 7\n",
    "print('x = ',x)\n",
    "print('y = ', y)\n",
    "print('x + y = ', x+y)\n",
    "print('y -x = ', y - x)\n",
    "print('x ^ y =', x**y)"
   ]
  },
  {
   "cell_type": "code",
   "execution_count": 3,
   "id": "d8ec3d76-e862-46b2-bc08-82588e27a076",
   "metadata": {},
   "outputs": [
    {
     "name": "stdout",
     "output_type": "stream",
     "text": [
      "x =  10\n",
      "y =  7\n",
      "x / y =  1.4285714285714286\n",
      "x // y =  1\n",
      "x % y =  3\n"
     ]
    }
   ],
   "source": [
    "x = 10\n",
    "y = 7\n",
    "print('x = ', x)\n",
    "print('y = ', y)\n",
    "print('x / y = ', x/y)\n",
    "print('x // y = ', x//y)\n",
    "print('x % y = ' , x%y)"
   ]
  },
  {
   "cell_type": "code",
   "execution_count": 7,
   "id": "c0401261-caf3-43c1-a7e9-50184abc2d29",
   "metadata": {},
   "outputs": [
    {
     "name": "stdout",
     "output_type": "stream",
     "text": [
      "a  b c\n",
      "d e f\n",
      "a =b=c\n",
      "d=e=f\n",
      "a b c@d e f@@"
     ]
    }
   ],
   "source": [
    "print('a ', 'b', 'c')\n",
    "print('d', 'e', 'f')\n",
    "\n",
    "print('a ', 'b', 'c', sep=\"=\")\n",
    "print('d', 'e', 'f', sep = \"=\")\n",
    "\n",
    "print('a', 'b', 'c' , end=\"@\")\n",
    "print('d', 'e', 'f', end=\"@@\")"
   ]
  },
  {
   "cell_type": "markdown",
   "id": "ebe9b2e8-60b2-43f3-bbad-4a41fe633907",
   "metadata": {},
   "source": [
    "x = 8\n",
    "y= 8\n",
    "print('x == y', x == y)\n",
    "print('x != y', x != y)\n",
    "print('x < y', x < y)\n",
    "print('x > y', x > y)\n",
    "print('x <= y', x <= y)\n",
    "print('x >= y', x >= y)"
   ]
  },
  {
   "cell_type": "markdown",
   "id": "ea70a67b-ffdf-4b89-a7f1-e04f8f7cb42b",
   "metadata": {},
   "source": [
    "Вазифаи хонаги №2\n",
    "Integer5"
   ]
  },
  {
   "cell_type": "code",
   "execution_count": 1,
   "id": "3ae42af3-5e4b-474f-92db-b3bd132a0311",
   "metadata": {},
   "outputs": [
    {
     "name": "stdin",
     "output_type": "stream",
     "text": [
      "a =  7\n",
      "b =  5\n"
     ]
    },
    {
     "name": "stdout",
     "output_type": "stream",
     "text": [
      "S =  1\n"
     ]
    }
   ],
   "source": [
    "a = int(input('a = '))\n",
    "b = int(input('b = '))\n",
    "if a > b:\n",
    "    S = a // b\n",
    "    print(\"S = \", S)\n",
    "else:\n",
    "    print(\"Адади b аз адади a калон аст. Рақами аз a хурдро дохил кунед.\")"
   ]
  },
  {
   "cell_type": "markdown",
   "id": "405cff28-6acf-4e58-8849-f3efc61a5050",
   "metadata": {},
   "source": [
    "Integer6"
   ]
  },
  {
   "cell_type": "code",
   "execution_count": 7,
   "id": "9a197d3c-97ce-4f43-851a-1027a5aeb226",
   "metadata": {},
   "outputs": [
    {
     "name": "stdin",
     "output_type": "stream",
     "text": [
      "n =  99\n"
     ]
    },
    {
     "name": "stdout",
     "output_type": "stream",
     "text": [
      "Dahi =  9 Vohid =  9\n"
     ]
    }
   ],
   "source": [
    "n = int(input('n = '))\n",
    "dahi = n // 10\n",
    "vohid = n % 10\n",
    "print('Dahi = ', dahi , 'Vohid = ', vohid)"
   ]
  },
  {
   "cell_type": "markdown",
   "id": "10bd9667-9e79-4761-8f1f-5d49e8081eeb",
   "metadata": {},
   "source": [
    "Integer18"
   ]
  },
  {
   "cell_type": "code",
   "execution_count": 7,
   "id": "308aca1b-cc39-49bc-b057-cc84d582ea13",
   "metadata": {},
   "outputs": [
    {
     "name": "stdin",
     "output_type": "stream",
     "text": [
      "n =  7845\n"
     ]
    },
    {
     "name": "stdout",
     "output_type": "stream",
     "text": [
      "7\n"
     ]
    }
   ],
   "source": [
    "n = int(input('n = ')) # Адади аз 999 калонро дохил кунед.\n",
    "n > 999\n",
    "hazori = (n // 1000)% 10\n",
    "print(hazori)"
   ]
  },
  {
   "cell_type": "markdown",
   "id": "775e16b3-4562-4708-9ede-8eab024c01ae",
   "metadata": {},
   "source": [
    "Integer21"
   ]
  },
  {
   "cell_type": "code",
   "execution_count": 14,
   "id": "aaada8f2-b8f4-4d29-8942-2f99e28e33ad",
   "metadata": {},
   "outputs": [
    {
     "name": "stdin",
     "output_type": "stream",
     "text": [
      "n =  4581\n"
     ]
    },
    {
     "name": "stdout",
     "output_type": "stream",
     "text": [
      "soniya =  21\n"
     ]
    }
   ],
   "source": [
    "# Ҳамаги дар 1 руз 24 соат 1440 дақиқа ва 86400 секунд\n",
    "n = int(input('n = ')) # Рақами n набояд аз 86400 калон шавад\n",
    "a = 60\n",
    "soniya = n % a\n",
    "print('soniya = ', soniya)"
   ]
  },
  {
   "cell_type": "code",
   "execution_count": null,
   "id": "4e80e8e7-24f1-42ef-9050-2e1b29e565f4",
   "metadata": {},
   "outputs": [],
   "source": []
  }
 ],
 "metadata": {
  "kernelspec": {
   "display_name": "Python 3 (ipykernel)",
   "language": "python",
   "name": "python3"
  },
  "language_info": {
   "codemirror_mode": {
    "name": "ipython",
    "version": 3
   },
   "file_extension": ".py",
   "mimetype": "text/x-python",
   "name": "python",
   "nbconvert_exporter": "python",
   "pygments_lexer": "ipython3",
   "version": "3.12.4"
  }
 },
 "nbformat": 4,
 "nbformat_minor": 5
}
