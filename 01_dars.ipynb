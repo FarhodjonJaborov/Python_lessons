{
 "cells": [
  {
   "cell_type": "code",
   "execution_count": 3,
   "id": "57aff916-4571-4a04-8743-a0221504c923",
   "metadata": {},
   "outputs": [
    {
     "name": "stdout",
     "output_type": "stream",
     "text": [
      "Hello world!\n"
     ]
    }
   ],
   "source": [
    "print('Hello world!')"
   ]
  },
  {
   "cell_type": "code",
   "execution_count": 11,
   "id": "682f2e35-efbb-42c4-ab48-a801c29f4016",
   "metadata": {},
   "outputs": [
    {
     "name": "stdout",
     "output_type": "stream",
     "text": [
      "10\n"
     ]
    }
   ],
   "source": [
    "x=10\n",
    "print(x)"
   ]
  },
  {
   "cell_type": "code",
   "execution_count": 17,
   "id": "c1ee6511-dd87-4765-a182-7ac030081686",
   "metadata": {},
   "outputs": [
    {
     "name": "stdout",
     "output_type": "stream",
     "text": [
      "Salom\n",
      "c\n"
     ]
    }
   ],
   "source": [
    "a='Salom'\n",
    "print(a)\n",
    "b='c'\n",
    "print(b)"
   ]
  },
  {
   "cell_type": "code",
   "execution_count": 19,
   "id": "ff0f0b77-a776-4452-bdf1-8b0ffec20824",
   "metadata": {},
   "outputs": [
    {
     "name": "stdout",
     "output_type": "stream",
     "text": [
      "5.666666666666667\n",
      "5\n",
      "2\n"
     ]
    }
   ],
   "source": [
    "print(17/3)\n",
    "print(17//3)\n",
    "print(17%3)"
   ]
  },
  {
   "cell_type": "code",
   "execution_count": 23,
   "id": "7b1bb97e-ccc8-4223-96bd-41b74438b47d",
   "metadata": {},
   "outputs": [
    {
     "name": "stdout",
     "output_type": "stream",
     "text": [
      "5.0\n",
      "5\n",
      "0\n"
     ]
    }
   ],
   "source": [
    "print(115/23)\n",
    "print(115//23)\n",
    "print(115%23)"
   ]
  },
  {
   "cell_type": "code",
   "execution_count": 2,
   "id": "19a52aa0-8af7-41b1-9d5c-9e25d2d4c528",
   "metadata": {},
   "outputs": [
    {
     "name": "stdout",
     "output_type": "stream",
     "text": [
      "4.0\n"
     ]
    }
   ],
   "source": [
    "print(2**2 + 2*(2-5 +  1*3)/2**3)"
   ]
  },
  {
   "cell_type": "markdown",
   "id": "6d2e5164-49fc-4770-8679-5f9640a64b57",
   "metadata": {},
   "source": [
    "Begin1.Тарафи квадрат дода шудааст. Периметри он p=a * 4 ёфта шавад.\r\n",
    "\r\n",
    "Ҷавоб.\r\n",
    "\r\n",
    "Дохил кардани қимати a\r\n",
    "Ҳисоб кардани p = a*4\r\n",
    "Чоп кардани p\r\n",
    "Итмом.   Итмом"
   ]
  },
  {
   "cell_type": "code",
   "execution_count": 6,
   "id": "a2b98b21-78b8-4faf-aa8e-1e6ddd8d6baf",
   "metadata": {},
   "outputs": [
    {
     "name": "stdin",
     "output_type": "stream",
     "text": [
      "a =  4\n"
     ]
    },
    {
     "name": "stdout",
     "output_type": "stream",
     "text": [
      "16\n"
     ]
    }
   ],
   "source": [
    "a = int(input('a = '))\n",
    "p = a * 4\n",
    "print(p)"
   ]
  },
  {
   "cell_type": "markdown",
   "id": "8409439d-257c-4ec3-8393-1e9aaf0f7630",
   "metadata": {},
   "source": [
    "Begin3. Тарафҳои росткунҷа a ва b дода шудааст. Масоҳати он s = a * b ва периметри он p = 2*(a + b) ёфта шаванд.\n",
    "\n",
    "Ҷавоб.\n",
    "\n",
    "Дохил кардани a\n",
    "Дохил кардани b\n",
    "Ҳисоб кардани S = a * b\n",
    "Ҳисоб кардани P = 2 * (a + b)\n",
    "Итмом"
   ]
  },
  {
   "cell_type": "code",
   "execution_count": 9,
   "id": "5bea9406-c9fb-4ab9-aaa6-5734ea47c897",
   "metadata": {},
   "outputs": [
    {
     "name": "stdin",
     "output_type": "stream",
     "text": [
      "a =  4\n",
      "b =  5\n"
     ]
    },
    {
     "name": "stdout",
     "output_type": "stream",
     "text": [
      "S =  20 P =  18\n"
     ]
    }
   ],
   "source": [
    "a = int(input('a = '))\n",
    "b = int(input('b = '))\n",
    "s = a*b\n",
    "p = 2*(a+b)\n",
    "print('S = ', s , 'P = ', p)"
   ]
  },
  {
   "cell_type": "markdown",
   "id": "834687ca-935f-4366-8686-c2a7efcdeb0b",
   "metadata": {},
   "source": [
    "Begin20\n",
    "\n",
    "Ҷавоб\n",
    "\n",
    "Дохил кардани x1\n",
    "Дохил кардани x2\n",
    "Дохил кардани y1\n",
    "Дохил кардани y2\n",
    "Ҳисоб кардани S = sqrt((x2 - x1)2 + (y2 - y1)2)\n",
    "Чоп кардани S\n",
    "Итмом"
   ]
  },
  {
   "cell_type": "code",
   "execution_count": 21,
   "id": "98d4585e-7466-4f68-a720-e6015a431707",
   "metadata": {},
   "outputs": [
    {
     "name": "stdin",
     "output_type": "stream",
     "text": [
      "x1 =  4\n",
      "x2 =  5\n",
      "y1 =  6\n",
      "y2 =  7\n"
     ]
    },
    {
     "name": "stdout",
     "output_type": "stream",
     "text": [
      "s =  1.4142135623730951\n"
     ]
    }
   ],
   "source": [
    "import math\n",
    "x1 = int(input('x1 = '))\n",
    "x2 = int(input('x2 = '))\n",
    "y1 = int(input('y1 = '))\n",
    "y2 = int(input('y2 = '))\n",
    "s = math.sqrt((x2 - x1)**2 + (y2 - y1)**2)\n",
    "print('s = ',s)"
   ]
  },
  {
   "cell_type": "code",
   "execution_count": null,
   "id": "e707a0c9-f734-421f-b4d5-284ec3bb5d80",
   "metadata": {},
   "outputs": [],
   "source": []
  }
 ],
 "metadata": {
  "kernelspec": {
   "display_name": "Python 3 (ipykernel)",
   "language": "python",
   "name": "python3"
  },
  "language_info": {
   "codemirror_mode": {
    "name": "ipython",
    "version": 3
   },
   "file_extension": ".py",
   "mimetype": "text/x-python",
   "name": "python",
   "nbconvert_exporter": "python",
   "pygments_lexer": "ipython3",
   "version": "3.12.4"
  }
 },
 "nbformat": 4,
 "nbformat_minor": 5
}
